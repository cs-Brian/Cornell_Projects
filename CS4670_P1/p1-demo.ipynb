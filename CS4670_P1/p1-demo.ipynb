{
 "cells": [
  {
   "cell_type": "code",
   "execution_count": null,
   "id": "56bb3c4b",
   "metadata": {},
   "outputs": [],
   "source": [
    "%matplotlib inline\n",
    "import p1\n",
    "import matplotlib.pyplot as plt\n",
    "import numpy as np"
   ]
  },
  {
   "cell_type": "markdown",
   "id": "d3654a4b",
   "metadata": {},
   "source": [
    "# Part 1: Basic Image Processing\n",
    "\n",
    "Let's first read an image in and see how it looks!"
   ]
  },
  {
   "cell_type": "code",
   "execution_count": null,
   "id": "a8ee7c3a",
   "metadata": {},
   "outputs": [],
   "source": [
    "img = p1.imread('img.jpg')\n",
    "plt.imshow(img)"
   ]
  },
  {
   "cell_type": "markdown",
   "id": "089621df",
   "metadata": {},
   "source": [
    "## Filtering\n",
    "\n",
    "Let's convolve with Gaussians of two different standard deviations and see what that gives us!"
   ]
  },
  {
   "cell_type": "code",
   "execution_count": null,
   "id": "4e15247e",
   "metadata": {},
   "outputs": [],
   "source": [
    "filt1 = p1.gaussian_filter(11,3)\n",
    "filt2 = p1.gaussian_filter(11,1)\n",
    "gaussian_filtered1 = p1.convolve(img, filt1)\n",
    "gaussian_filtered2 = p1.convolve(img, filt2)\n",
    "plt.figure(); plt.imshow(gaussian_filtered1)\n",
    "plt.figure(); plt.imshow(gaussian_filtered2)"
   ]
  },
  {
   "cell_type": "markdown",
   "id": "e4046b30",
   "metadata": {},
   "source": [
    "## Image gradients\n",
    "\n",
    "Let's now compute image gradients and visualize the gradient magnitude."
   ]
  },
  {
   "cell_type": "code",
   "execution_count": null,
   "id": "97424329",
   "metadata": {},
   "outputs": [],
   "source": [
    "gradmag, gradori = p1.gradient(img)\n",
    "plt.figure(); plt.imshow(gradmag, cmap = plt.get_cmap('gray'), vmax = 1)"
   ]
  },
  {
   "cell_type": "markdown",
   "id": "f6b71445",
   "metadata": {},
   "source": [
    "We can threshold the gradient image to get pixels on the boundary. We can even try to find all pixels with gradient orientation between 30 degrees and 90 degrees."
   ]
  },
  {
   "cell_type": "code",
   "execution_count": null,
   "id": "c217ff13",
   "metadata": {},
   "outputs": [],
   "source": [
    "plt.figure(); plt.imshow(gradmag>0.1, cmap=plt.get_cmap('gray'))\n",
    "plt.figure(); plt.imshow((gradmag>0.1) & (gradori>np.pi/6) & (gradori<np.pi/2), cmap = plt.get_cmap('gray'))"
   ]
  },
  {
   "cell_type": "markdown",
   "id": "8a6d9dc8",
   "metadata": {},
   "source": [
    "# Part 2: Line detection\n",
    "\n",
    "Now let's look for lines! We want to find the equation of every line in the image.\n",
    "Any line is parametrized by $\\theta$ and $c$, with the equation of the line given by:\n",
    "$$x \\cos \\theta + y \\sin \\theta + c = 0$$\n",
    "To detect lines, we will first define the set of possible values of $\\theta$ and $c$."
   ]
  },
  {
   "cell_type": "code",
   "execution_count": null,
   "id": "16d91736",
   "metadata": {},
   "outputs": [],
   "source": [
    "thetas = np.arange(-np.pi-np.pi/40, np.pi+np.pi/40, np.pi/40)\n",
    "imgdiagonal = np.sqrt(img.shape[0]**2 + img.shape[1]**2)\n",
    "cs = np.arange(-imgdiagonal, imgdiagonal, 0.5)"
   ]
  },
  {
   "cell_type": "markdown",
   "id": "833c9de6",
   "metadata": {},
   "source": [
    "Next we will do Hough voting. Let's look at what the votes look like!"
   ]
  },
  {
   "cell_type": "code",
   "execution_count": null,
   "id": "7effcb57",
   "metadata": {},
   "outputs": [],
   "source": [
    "votes = p1.hough_voting(gradmag, gradori, thetas, cs, 0.1, 0.5, np.pi/40)\n",
    "plt.figure(); plt.imshow(votes, aspect='auto', cmap=plt.get_cmap('gray'), vmax=20)"
   ]
  },
  {
   "cell_type": "markdown",
   "id": "48130138",
   "metadata": {},
   "source": [
    "Next let's find local maxima in this Hough transform, get the equations of the lines and draw the lines!"
   ]
  },
  {
   "cell_type": "code",
   "execution_count": null,
   "id": "3a278b93",
   "metadata": {},
   "outputs": [],
   "source": [
    "\n",
    "lines = p1.localmax(votes, thetas, cs, 20, 11)\n",
    "for (theta, c) in lines:\n",
    "    print('{:.02f}x + {:.02f}y + {:.02f} = 0'.format(np.cos(theta), np.sin(theta), c))\n",
    "\n",
    "\n",
    "newimg = p1.draw_lines(img, lines, 0.5)\n",
    "plt.imshow(newimg)\n"
   ]
  },
  {
   "cell_type": "markdown",
   "id": "bd25e8ea",
   "metadata": {},
   "source": [
    "Another example!"
   ]
  },
  {
   "cell_type": "code",
   "execution_count": null,
   "id": "c107eb1f",
   "metadata": {},
   "outputs": [],
   "source": [
    "img = p1.imread('img2.png')\n",
    "plt.figure(); plt.imshow(img)\n",
    "gradmag, gradori = p1.gradient(img)\n",
    "votes = p1.hough_voting(gradmag, gradori, thetas, cs, 0.1, 0.5, np.pi/40)\n",
    "lines = p1.localmax(votes, thetas, cs, 20, 11)\n",
    "for (theta, c) in lines:\n",
    "    print('{:.02f}x + {:.02f}y + {:.02f} = 0'.format(np.cos(theta), np.sin(theta), c))\n",
    "\n",
    "\n",
    "\n",
    "newimg = p1.draw_lines(img, lines, 0.5)\n",
    "plt.figure();plt.imshow(newimg)\n"
   ]
  },
  {
   "cell_type": "markdown",
   "id": "27b7d35e",
   "metadata": {},
   "source": []
  }
 ],
 "metadata": {
  "kernelspec": {
   "display_name": "Python 3",
   "language": "python",
   "name": "python3"
  },
  "language_info": {
   "codemirror_mode": {
    "name": "ipython",
    "version": 3
   },
   "file_extension": ".py",
   "mimetype": "text/x-python",
   "name": "python",
   "nbconvert_exporter": "python",
   "pygments_lexer": "ipython3",
   "version": "3.8.8"
  }
 },
 "nbformat": 4,
 "nbformat_minor": 5
}
